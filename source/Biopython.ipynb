{
 "cells": [
  {
   "cell_type": "code",
   "execution_count": 4,
   "id": "076cb731",
   "metadata": {},
   "outputs": [
    {
     "name": "stdout",
     "output_type": "stream",
     "text": [
      "1.85\n"
     ]
    },
    {
     "ename": "AttributeError",
     "evalue": "module 'Bio' has no attribute 'Seq'",
     "output_type": "error",
     "traceback": [
      "\u001b[31m---------------------------------------------------------------------------\u001b[39m",
      "\u001b[31mAttributeError\u001b[39m                            Traceback (most recent call last)",
      "\u001b[36mCell\u001b[39m\u001b[36m \u001b[39m\u001b[32mIn[4]\u001b[39m\u001b[32m, line 5\u001b[39m\n\u001b[32m      1\u001b[39m \u001b[38;5;28;01mimport\u001b[39;00m\u001b[38;5;250m \u001b[39m\u001b[34;01mBio\u001b[39;00m\n\u001b[32m      2\u001b[39m \u001b[38;5;28mprint\u001b[39m(Bio.__version__)\n\u001b[32m----> \u001b[39m\u001b[32m5\u001b[39m seqobj = \u001b[43mBio\u001b[49m\u001b[43m.\u001b[49m\u001b[43mSeq\u001b[49m.Seq(\u001b[33m'\u001b[39m\u001b[33mATGCGATCGAGC\u001b[39m\u001b[33m'\u001b[39m) \u001b[38;5;66;03m#<<\u001b[39;00m\n\u001b[32m      6\u001b[39m seqobj\n\u001b[32m      8\u001b[39m \u001b[38;5;66;03m#se puede regresar a tipo string]\u001b[39;00m\n",
      "\u001b[31mAttributeError\u001b[39m: module 'Bio' has no attribute 'Seq'"
     ]
    }
   ],
   "source": [
    "import Bio\n",
    "print(Bio.__version__)\n",
    "\n",
    "\n",
    "seqobj = Bio.Seq.Seq('ATGCGATCGAGC') #<<\n",
    "seqobj\n",
    "\n",
    "#se puede regresar a tipo string]\n",
    "\n",
    "seq_str = str(seqobj)  # convertir con str()\n",
    "print(seq_str,' tiene ',len(seq_str),' nucleotidos')\n"
   ]
  },
  {
   "cell_type": "markdown",
   "id": "a43efe1b",
   "metadata": {},
   "source": [
    "## ¿Qué es Biopython?\n",
    "\n",
    "El Proyecto Biopython es una asociación internacional de desarrolladores de Python que comparten gratuitamente herramientas para biología molecular computacional.\n",
    "\n",
    "Básicamente, El objetivo de Biopython es facilitar al máximo el uso de Python para bioinformática mediante la creación de módulos y clases reutilizables. Las características de Biopython incluyen analizadores para varios formatos de archivo de bioinformática (BLAST, Clustalw, FASTA, Genbank, ...), acceso a servicios online (NCBI, Expasy, ...), interfaces a programas (Clustalw, DSSP, MSMS ...), una clase de secuencia estándar, modulos con métodos de clasificación (como kmeans, etc .\n",
    "\n",
    "http://biopython.org/DIST/docs/tutorial/Tutorial.pdf\n",
    "\n",
    "El código fuente está disponible bajo la Licencia Biopython, que es extremadamente libre y compatible con casi todas las licencias del mundo.\n",
    "\n"
   ]
  },
  {
   "cell_type": "code",
   "execution_count": 6,
   "id": "e526c828",
   "metadata": {},
   "outputs": [
    {
     "ename": "TypeError",
     "evalue": "'Seq' object does not support item assignment",
     "output_type": "error",
     "traceback": [
      "\u001b[31m---------------------------------------------------------------------------\u001b[39m",
      "\u001b[31mTypeError\u001b[39m                                 Traceback (most recent call last)",
      "\u001b[36mCell\u001b[39m\u001b[36m \u001b[39m\u001b[32mIn[6]\u001b[39m\u001b[32m, line 4\u001b[39m\n\u001b[32m      2\u001b[39m seqobj = Seq(\u001b[33m'\u001b[39m\u001b[33mATGCGATCGAGC\u001b[39m\u001b[33m'\u001b[39m)\n\u001b[32m      3\u001b[39m \u001b[38;5;66;03m#Las secuecnias son inmutables\u001b[39;00m\n\u001b[32m----> \u001b[39m\u001b[32m4\u001b[39m \u001b[43mseqobj\u001b[49m\u001b[43m[\u001b[49m\u001b[32;43m0\u001b[39;49m\u001b[43m]\u001b[49m=\u001b[33m\"\u001b[39m\u001b[33mT\u001b[39m\u001b[33m\"\u001b[39m\n\u001b[32m      6\u001b[39m \u001b[38;5;28;01mfrom\u001b[39;00m\u001b[38;5;250m \u001b[39m\u001b[34;01mBio\u001b[39;00m\u001b[34;01m.\u001b[39;00m\u001b[34;01mSeq\u001b[39;00m\u001b[38;5;250m \u001b[39m\u001b[38;5;28;01mimport\u001b[39;00m MutableSeq\n\u001b[32m      7\u001b[39m \u001b[38;5;66;03m# objeto mut_seq será mutable!\u001b[39;00m\n",
      "\u001b[31mTypeError\u001b[39m: 'Seq' object does not support item assignment"
     ]
    }
   ],
   "source": [
    "from Bio.Seq import Seq #<<\n",
    "seqobj = Seq('ATGCGATCGAGC')\n",
    "#Las secuecnias son inmutables\n",
    "seqobj[0]=\"T\"\n",
    "\n",
    "from Bio.Seq import MutableSeq\n",
    "# objeto mut_seq será mutable!\n",
    "mut_seq = MutableSeq(seqobj)\n",
    "mut_seq[0] = \"T\" \n",
    "\n"
   ]
  },
  {
   "cell_type": "code",
   "execution_count": 7,
   "id": "d21f8f94",
   "metadata": {},
   "outputs": [
    {
     "name": "stdout",
     "output_type": "stream",
     "text": [
      "GC_Frame: a:25 t:25 g:25 c:21\n",
      "Sequence: agccatgtag ... agcatctcag, 96 nt, 47.92 %GC\n",
      "\n",
      "\n",
      "1/1\n",
      "  P  C  S  *  L  R  L  H  G  D  D  P  A  T  W  I  R  V  S  F\n",
      " A  M  *  L  T  Q  V  T  W  G  *  P  R  D  L  D  *  S  L  F\n",
      "S  H  V  A  N  S  G  Y  M  G  M  T  P  R  L  G  L  E  S  L\n",
      "agccatgtagctaactcaggttacatggggatgaccccgcgacttggattagagtctctt   47 %\n",
      "tcggtacatcgattgagtccaatgtacccctactggggcgctgaacctaatctcagagaa\n",
      "W  T  A  L  E  P  *  M  P  I  V  G  R  S  P  N  S  D  R  K\n",
      " A  M  Y  S  V  *  T  V  H  P  H  G  R  S  K  S  *  L  R  K\n",
      "  G  H  L  *  S  L  N  C  P  S  S  G  A  V  Q  I  L  T  E  K\n",
      "\n",
      "61/21\n",
      "  G  I  S  L  N  D  P  S  S  I  S\n",
      " W  N  K  P  E  *  S  E  *  H  L\n",
      "L  E  *  A  *  M  I  R  V  A  S  Q\n",
      "ttggaataagcctgaatgatccgagtagcatctcag   47 %\n",
      "aaccttattcggacttactaggctcatcgtagagtc\n",
      "S  Y  A  Q  I  I  R  T  A  D  *\n",
      " Q  F  L  G  S  H  D  S  Y  C  R  L\n",
      "  P  I  L  R  F  S  G  L  L  M  E\n",
      "\n",
      "\n"
     ]
    }
   ],
   "source": [
    "#Ejercicio 1 \n",
    "\n",
    "from Bio.SeqUtils import six_frame_translations\n",
    "seq = Seq(\"AGCCATGTAGCTAACTCAGGTTACATGGGGATGACCCCGCGACTTGGATTAGAGTCTCTTTTGGAATAAGCCTGAATGATCCGAGTAGCATCTCAG\")\n",
    "\n",
    "print(six_frame_translations(seq, genetic_code=1))"
   ]
  },
  {
   "cell_type": "code",
   "execution_count": null,
   "id": "012e2263",
   "metadata": {},
   "outputs": [
    {
     "name": "stdout",
     "output_type": "stream",
     "text": [
      "Search results:\n",
      "{'Count': '1', 'RetMax': '1', 'RetStart': '0', 'IdList': ['877658'], 'TranslationSet': [], 'TranslationStack': [{'Term': 'PRJNA877658[All Fields]', 'Field': 'All Fields', 'Count': '1', 'Explode': 'N'}, 'GROUP'], 'QueryTranslation': 'PRJNA877658[All Fields]'}\n",
      "Project UID: 877658\n",
      "Project summary:\n",
      "{'DocumentSummarySet': DictElement({'DocumentSummary': [DictElement({'TaxId': '0', 'Project_Id': '877658', 'Project_Acc': 'PRJNA877658', 'Project_Type': 'Primary submission', 'Project_Data_Type': 'Transcriptome or Gene expression', 'Sort_By_ProjectType': '301040', 'Sort_By_DataType': '280567', 'Sort_By_Organism': '787813', 'Project_Subtype': '', 'Project_Target_Scope': 'Multispecies', 'Project_Target_Material': 'Genome', 'Project_Target_Capture': 'Whole', 'Project_MethodType': 'Sequencing', 'Project_Method': '', 'Project_Objectives_List': [{'Project_ObjectivesType': 'Raw Sequence Reads', 'Project_Objectives': ''}], 'Registration_Date': '2022/09/07 00:00', 'Project_Name': '', 'Project_Title': 'Haemonchus contortus IVM Susceptible/Resistant Mexican Transcriptome, INIFAP-Mexico', 'Project_Description': 'The trasnscriptome of two H. contortus mexican isolates (IVM Susceptible and Resistant) was assembled to analyze its potential use in the establishment of strategies of control of haemonchosis in small ruminants based on identifying and usage of genes associated with anthelmintic resistance.', 'Keyword': '', 'Relevance_Agricultural': 'yes', 'Relevance_Medical': '', 'Relevance_Industrial': '', 'Relevance_Environmental': '', 'Relevance_Evolution': '', 'Relevance_Model': '', 'Relevance_Other': '', 'Organism_Name': '', 'Organism_Strain': '', 'Organism_Label': '', 'Sequencing_Status': 'SRA/Trace', 'Submitter_Organization': 'National Reserch Institute for Forestry, Agriculture and Livestock', 'Submitter_Organization_List': ['National Reserch Institute for Forestry, Agriculture and Livestock'], 'Supergroup': ''}, attributes={'uid': '877658'})], 'DbBuild': 'Build250923-1445.1'}, attributes={'status': 'OK'})}\n"
     ]
    }
   ],
   "source": [
    "import ssl, certifi\n",
    "from Bio import Entrez\n",
    "\n",
    "Entrez.email = \"yaelmont@lcg.unam.mx\"\n",
    "\n",
    "# Crear un contexto SSL válido usando certifi\n",
    "ssl_context = ssl.create_default_context(cafile=certifi.where())\n",
    "\n",
    "# Parchear globalmente urllib para que siempre use este contexto\n",
    "import urllib.request\n",
    "https_handler = urllib.request.HTTPSHandler(context=ssl_context)\n",
    "opener = urllib.request.build_opener(https_handler)\n",
    "urllib.request.install_opener(opener)\n",
    "\n",
    "project_acc = \"PRJNA877658\"\n",
    "\n",
    "handle = Entrez.esearch(db=\"bioproject\", term=project_acc)\n",
    "search_results = Entrez.read(handle)\n",
    "handle.close()\n",
    "\n",
    "print(\"Search results:\")\n",
    "print(search_results)\n",
    "\n",
    "project_uid = search_results[\"IdList\"][0]\n",
    "print(f\"Project UID: {project_uid}\")\n",
    "\n",
    "handle = Entrez.esummary(db=\"bioproject\", id=project_uid)\n",
    "project_record = Entrez.read(handle)\n",
    "handle.close()\n",
    "\n",
    "print(\"Project summary:\")\n",
    "print(project_record)\n",
    "\n",
    "\n"
   ]
  }
 ],
 "metadata": {
  "kernelspec": {
   "display_name": "Python 3",
   "language": "python",
   "name": "python3"
  },
  "language_info": {
   "codemirror_mode": {
    "name": "ipython",
    "version": 3
   },
   "file_extension": ".py",
   "mimetype": "text/x-python",
   "name": "python",
   "nbconvert_exporter": "python",
   "pygments_lexer": "ipython3",
   "version": "3.13.2"
  }
 },
 "nbformat": 4,
 "nbformat_minor": 5
}
